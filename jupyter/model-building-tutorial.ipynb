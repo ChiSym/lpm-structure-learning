{
 "cells": [
  {
   "cell_type": "code",
   "execution_count": 1,
   "id": "f575e32d-d440-462d-a687-93e4b330f28a",
   "metadata": {},
   "outputs": [],
   "source": [
    "import math\n",
    "import polars as pl\n",
    "\n",
    "from lpm_query import QueryInference\n",
    "from lpm_structure_learning import learn_structure\n",
    "from lpm_fidelity.distances import bivariate_distances_in_data\n",
    "from lpm_fidelity.counting  import bivariate_empirical_frequencies\n",
    "from lpm_plot import plot_fidelity, plot_marginal_1d, plot_marginal_2d"
   ]
  },
  {
   "cell_type": "code",
   "execution_count": 2,
   "id": "5dd93293-49fe-4a6a-9b0c-db8d79faa2aa",
   "metadata": {},
   "outputs": [],
   "source": [
    "df = pl.read_parquet(\"../resources/ces-10-cols.parquet\")"
   ]
  },
  {
   "cell_type": "code",
   "execution_count": 3,
   "id": "7426f850-9555-4b84-ab30-f5de8012aaaf",
   "metadata": {},
   "outputs": [
    {
     "data": {
      "text/html": [
       "<div><style>\n",
       ".dataframe > thead > tr,\n",
       ".dataframe > tbody > tr {\n",
       "  text-align: right;\n",
       "  white-space: pre-wrap;\n",
       "}\n",
       "</style>\n",
       "<small>shape: (5, 10)</small><table border=\"1\" class=\"dataframe\"><thead><tr><th>State</th><th>Age</th><th>Sex</th><th>Race</th><th>Religion</th><th>Party_allegiance</th><th>Police_makes_me_feel</th><th>Mental_health_status</th><th>Policy_support_ban_assault_rifles</th><th>Policy_support_allowing_teachers_to_carry_guns</th></tr><tr><td>str</td><td>str</td><td>str</td><td>str</td><td>str</td><td>str</td><td>str</td><td>str</td><td>str</td><td>str</td></tr></thead><tbody><tr><td>&quot;Maine&quot;</td><td>&quot;(49, 55]&quot;</td><td>&quot;Male&quot;</td><td>&quot;White&quot;</td><td>&quot;Roman Catholic&quot;</td><td>&quot;Republican&quot;</td><td>&quot;(b) Somewhat safe&quot;</td><td>&quot;(c) Good&quot;</td><td>&quot;No&quot;</td><td>&quot;Yes&quot;</td></tr><tr><td>&quot;Florida&quot;</td><td>&quot;(42, 49]&quot;</td><td>&quot;Female&quot;</td><td>&quot;Black&quot;</td><td>&quot;Protestant&quot;</td><td>&quot;not sure&quot;</td><td>&quot;(b) Somewhat safe&quot;</td><td>&quot;(d) Fair&quot;</td><td>&quot;Yes&quot;</td><td>&quot;Yes&quot;</td></tr><tr><td>&quot;Idaho&quot;</td><td>&quot;(55, 60]&quot;</td><td>&quot;Female&quot;</td><td>&quot;White&quot;</td><td>&quot;Mormon&quot;</td><td>&quot;Republican&quot;</td><td>&quot;(b) Somewhat safe&quot;</td><td>&quot;(a) Excellent&quot;</td><td>&quot;No&quot;</td><td>&quot;Yes&quot;</td></tr><tr><td>&quot;New York&quot;</td><td>&quot;(49, 55]&quot;</td><td>&quot;Male&quot;</td><td>&quot;White&quot;</td><td>&quot;Roman Catholic&quot;</td><td>&quot;Republican&quot;</td><td>&quot;(a) Mostly safe&quot;</td><td>&quot;(c) Good&quot;</td><td>&quot;No&quot;</td><td>&quot;Yes&quot;</td></tr><tr><td>&quot;Florida&quot;</td><td>&quot;(35, 42]&quot;</td><td>&quot;Male&quot;</td><td>&quot;White&quot;</td><td>&quot;Protestant&quot;</td><td>&quot;Democrat&quot;</td><td>&quot;(a) Mostly safe&quot;</td><td>&quot;(c) Good&quot;</td><td>&quot;Yes&quot;</td><td>&quot;No&quot;</td></tr></tbody></table></div>"
      ],
      "text/plain": [
       "shape: (5, 10)\n",
       "┌──────────┬──────────┬────────┬───────┬───┬─────────────┬─────────────┬─────────────┬─────────────┐\n",
       "│ State    ┆ Age      ┆ Sex    ┆ Race  ┆ … ┆ Police_make ┆ Mental_heal ┆ Policy_supp ┆ Policy_supp │\n",
       "│ ---      ┆ ---      ┆ ---    ┆ ---   ┆   ┆ s_me_feel   ┆ th_status   ┆ ort_ban_ass ┆ ort_allowin │\n",
       "│ str      ┆ str      ┆ str    ┆ str   ┆   ┆ ---         ┆ ---         ┆ ault_rif…   ┆ g_teache…   │\n",
       "│          ┆          ┆        ┆       ┆   ┆ str         ┆ str         ┆ ---         ┆ ---         │\n",
       "│          ┆          ┆        ┆       ┆   ┆             ┆             ┆ str         ┆ str         │\n",
       "╞══════════╪══════════╪════════╪═══════╪═══╪═════════════╪═════════════╪═════════════╪═════════════╡\n",
       "│ Maine    ┆ (49, 55] ┆ Male   ┆ White ┆ … ┆ (b)         ┆ (c) Good    ┆ No          ┆ Yes         │\n",
       "│          ┆          ┆        ┆       ┆   ┆ Somewhat    ┆             ┆             ┆             │\n",
       "│          ┆          ┆        ┆       ┆   ┆ safe        ┆             ┆             ┆             │\n",
       "│ Florida  ┆ (42, 49] ┆ Female ┆ Black ┆ … ┆ (b)         ┆ (d) Fair    ┆ Yes         ┆ Yes         │\n",
       "│          ┆          ┆        ┆       ┆   ┆ Somewhat    ┆             ┆             ┆             │\n",
       "│          ┆          ┆        ┆       ┆   ┆ safe        ┆             ┆             ┆             │\n",
       "│ Idaho    ┆ (55, 60] ┆ Female ┆ White ┆ … ┆ (b)         ┆ (a)         ┆ No          ┆ Yes         │\n",
       "│          ┆          ┆        ┆       ┆   ┆ Somewhat    ┆ Excellent   ┆             ┆             │\n",
       "│          ┆          ┆        ┆       ┆   ┆ safe        ┆             ┆             ┆             │\n",
       "│ New York ┆ (49, 55] ┆ Male   ┆ White ┆ … ┆ (a) Mostly  ┆ (c) Good    ┆ No          ┆ Yes         │\n",
       "│          ┆          ┆        ┆       ┆   ┆ safe        ┆             ┆             ┆             │\n",
       "│ Florida  ┆ (35, 42] ┆ Male   ┆ White ┆ … ┆ (a) Mostly  ┆ (c) Good    ┆ Yes         ┆ No          │\n",
       "│          ┆          ┆        ┆       ┆   ┆ safe        ┆             ┆             ┆             │\n",
       "└──────────┴──────────┴────────┴───────┴───┴─────────────┴─────────────┴─────────────┴─────────────┘"
      ]
     },
     "execution_count": 3,
     "metadata": {},
     "output_type": "execute_result"
    }
   ],
   "source": [
    "df.head()"
   ]
  },
  {
   "cell_type": "code",
   "execution_count": 4,
   "id": "6ff0da2a-29e5-481a-90b7-0c5a40e047be",
   "metadata": {},
   "outputs": [
    {
     "data": {
      "text/plain": [
       "(10000, 10)"
      ]
     },
     "execution_count": 4,
     "metadata": {},
     "output_type": "execute_result"
    }
   ],
   "source": [
    "df.shape"
   ]
  },
  {
   "cell_type": "code",
   "execution_count": 5,
   "id": "e449f8c0-c4bd-4289-8046-ba6282651f9f",
   "metadata": {},
   "outputs": [
    {
     "name": "stdout",
     "output_type": "stream",
     "text": [
      "Model index chosen: 22\n"
     ]
    }
   ],
   "source": [
    "model_spec, schema = learn_structure(df, max_clusters=30)"
   ]
  },
  {
   "cell_type": "code",
   "execution_count": 6,
   "id": "3cb873fa-4614-4fff-af65-80029a86e4de",
   "metadata": {},
   "outputs": [],
   "source": [
    "qi = QueryInference(model_spec, schema)"
   ]
  },
  {
   "cell_type": "code",
   "execution_count": 7,
   "id": "76374866-31ab-4387-8d37-dc68162e2a6e",
   "metadata": {},
   "outputs": [
    {
     "data": {
      "text/html": [
       "<div><style>\n",
       ".dataframe > thead > tr,\n",
       ".dataframe > tbody > tr {\n",
       "  text-align: right;\n",
       "  white-space: pre-wrap;\n",
       "}\n",
       "</style>\n",
       "<small>shape: (5, 10)</small><table border=\"1\" class=\"dataframe\"><thead><tr><th>State</th><th>Age</th><th>Sex</th><th>Race</th><th>Religion</th><th>Party_allegiance</th><th>Police_makes_me_feel</th><th>Mental_health_status</th><th>Policy_support_ban_assault_rifles</th><th>Policy_support_allowing_teachers_to_carry_guns</th></tr><tr><td>str</td><td>str</td><td>str</td><td>str</td><td>str</td><td>str</td><td>str</td><td>str</td><td>str</td><td>str</td></tr></thead><tbody><tr><td>&quot;Iowa&quot;</td><td>&quot;(27, 35]&quot;</td><td>&quot;Male&quot;</td><td>&quot;White&quot;</td><td>&quot;Agnostic&quot;</td><td>&quot;independent&quot;</td><td>&quot;(d) Mostly unsafe&quot;</td><td>&quot;(c) Good&quot;</td><td>&quot;Yes&quot;</td><td>&quot;No&quot;</td></tr><tr><td>&quot;Pennsylvania&quot;</td><td>&quot;(65, 70]&quot;</td><td>&quot;Female&quot;</td><td>&quot;White&quot;</td><td>&quot;Protestant&quot;</td><td>&quot;Republican&quot;</td><td>&quot;(b) Somewhat safe&quot;</td><td>&quot;(d) Fair&quot;</td><td>&quot;No&quot;</td><td>&quot;Yes&quot;</td></tr><tr><td>&quot;North Carolina&quot;</td><td>&quot;(27, 35]&quot;</td><td>&quot;Female&quot;</td><td>&quot;Black&quot;</td><td>&quot;Nothing in particular&quot;</td><td>&quot;independent&quot;</td><td>&quot;(b) Somewhat safe&quot;</td><td>&quot;(c) Good&quot;</td><td>&quot;Yes&quot;</td><td>&quot;No&quot;</td></tr><tr><td>&quot;California&quot;</td><td>&quot;(27, 35]&quot;</td><td>&quot;Female&quot;</td><td>&quot;Asian&quot;</td><td>&quot;Nothing in particular&quot;</td><td>&quot;independent&quot;</td><td>&quot;(b) Somewhat safe&quot;</td><td>&quot;(d) Fair&quot;</td><td>&quot;Yes&quot;</td><td>&quot;Yes&quot;</td></tr><tr><td>&quot;California&quot;</td><td>&quot;(-inf, 27]&quot;</td><td>&quot;Male&quot;</td><td>&quot;White&quot;</td><td>&quot;Roman Catholic&quot;</td><td>&quot;independent&quot;</td><td>&quot;(b) Somewhat safe&quot;</td><td>&quot;(a) Excellent&quot;</td><td>&quot;No&quot;</td><td>&quot;Yes&quot;</td></tr></tbody></table></div>"
      ],
      "text/plain": [
       "shape: (5, 10)\n",
       "┌────────────┬────────────┬────────┬───────┬───┬────────────┬────────────┬────────────┬────────────┐\n",
       "│ State      ┆ Age        ┆ Sex    ┆ Race  ┆ … ┆ Police_mak ┆ Mental_hea ┆ Policy_sup ┆ Policy_sup │\n",
       "│ ---        ┆ ---        ┆ ---    ┆ ---   ┆   ┆ es_me_feel ┆ lth_status ┆ port_ban_a ┆ port_allow │\n",
       "│ str        ┆ str        ┆ str    ┆ str   ┆   ┆ ---        ┆ ---        ┆ ssault_rif ┆ ing_teache │\n",
       "│            ┆            ┆        ┆       ┆   ┆ str        ┆ str        ┆ …          ┆ …          │\n",
       "│            ┆            ┆        ┆       ┆   ┆            ┆            ┆ ---        ┆ ---        │\n",
       "│            ┆            ┆        ┆       ┆   ┆            ┆            ┆ str        ┆ str        │\n",
       "╞════════════╪════════════╪════════╪═══════╪═══╪════════════╪════════════╪════════════╪════════════╡\n",
       "│ Iowa       ┆ (27, 35]   ┆ Male   ┆ White ┆ … ┆ (d) Mostly ┆ (c) Good   ┆ Yes        ┆ No         │\n",
       "│            ┆            ┆        ┆       ┆   ┆ unsafe     ┆            ┆            ┆            │\n",
       "│ Pennsylvan ┆ (65, 70]   ┆ Female ┆ White ┆ … ┆ (b)        ┆ (d) Fair   ┆ No         ┆ Yes        │\n",
       "│ ia         ┆            ┆        ┆       ┆   ┆ Somewhat   ┆            ┆            ┆            │\n",
       "│            ┆            ┆        ┆       ┆   ┆ safe       ┆            ┆            ┆            │\n",
       "│ North      ┆ (27, 35]   ┆ Female ┆ Black ┆ … ┆ (b)        ┆ (c) Good   ┆ Yes        ┆ No         │\n",
       "│ Carolina   ┆            ┆        ┆       ┆   ┆ Somewhat   ┆            ┆            ┆            │\n",
       "│            ┆            ┆        ┆       ┆   ┆ safe       ┆            ┆            ┆            │\n",
       "│ California ┆ (27, 35]   ┆ Female ┆ Asian ┆ … ┆ (b)        ┆ (d) Fair   ┆ Yes        ┆ Yes        │\n",
       "│            ┆            ┆        ┆       ┆   ┆ Somewhat   ┆            ┆            ┆            │\n",
       "│            ┆            ┆        ┆       ┆   ┆ safe       ┆            ┆            ┆            │\n",
       "│ California ┆ (-inf, 27] ┆ Male   ┆ White ┆ … ┆ (b)        ┆ (a)        ┆ No         ┆ Yes        │\n",
       "│            ┆            ┆        ┆       ┆   ┆ Somewhat   ┆ Excellent  ┆            ┆            │\n",
       "│            ┆            ┆        ┆       ┆   ┆ safe       ┆            ┆            ┆            │\n",
       "└────────────┴────────────┴────────┴───────┴───┴────────────┴────────────┴────────────┴────────────┘"
      ]
     },
     "execution_count": 7,
     "metadata": {},
     "output_type": "execute_result"
    }
   ],
   "source": [
    "df_generated = qi.generate(10000, df.columns)\n",
    "df_generated.head()"
   ]
  },
  {
   "cell_type": "code",
   "execution_count": 8,
   "id": "318d5938-45cf-4f3c-b524-1c2f6ec2d4f1",
   "metadata": {},
   "outputs": [
    {
     "data": {
      "text/html": [
       "\n",
       "<style>\n",
       "  #altair-viz-f8f28bbafe234f6a9a55afbd493060c8.vega-embed {\n",
       "    width: 100%;\n",
       "    display: flex;\n",
       "  }\n",
       "\n",
       "  #altair-viz-f8f28bbafe234f6a9a55afbd493060c8.vega-embed details,\n",
       "  #altair-viz-f8f28bbafe234f6a9a55afbd493060c8.vega-embed details summary {\n",
       "    position: relative;\n",
       "  }\n",
       "</style>\n",
       "<div id=\"altair-viz-f8f28bbafe234f6a9a55afbd493060c8\"></div>\n",
       "<script type=\"text/javascript\">\n",
       "  var VEGA_DEBUG = (typeof VEGA_DEBUG == \"undefined\") ? {} : VEGA_DEBUG;\n",
       "  (function(spec, embedOpt){\n",
       "    let outputDiv = document.currentScript.previousElementSibling;\n",
       "    if (outputDiv.id !== \"altair-viz-f8f28bbafe234f6a9a55afbd493060c8\") {\n",
       "      outputDiv = document.getElementById(\"altair-viz-f8f28bbafe234f6a9a55afbd493060c8\");\n",
       "    }\n",
       "    const paths = {\n",
       "      \"vega\": \"https://cdn.jsdelivr.net/npm/vega@5?noext\",\n",
       "      \"vega-lib\": \"https://cdn.jsdelivr.net/npm/vega-lib?noext\",\n",
       "      \"vega-lite\": \"https://cdn.jsdelivr.net/npm/vega-lite@5.20.1?noext\",\n",
       "      \"vega-embed\": \"https://cdn.jsdelivr.net/npm/vega-embed@6?noext\",\n",
       "    };\n",
       "\n",
       "    function maybeLoadScript(lib, version) {\n",
       "      var key = `${lib.replace(\"-\", \"\")}_version`;\n",
       "      return (VEGA_DEBUG[key] == version) ?\n",
       "        Promise.resolve(paths[lib]) :\n",
       "        new Promise(function(resolve, reject) {\n",
       "          var s = document.createElement('script');\n",
       "          document.getElementsByTagName(\"head\")[0].appendChild(s);\n",
       "          s.async = true;\n",
       "          s.onload = () => {\n",
       "            VEGA_DEBUG[key] = version;\n",
       "            return resolve(paths[lib]);\n",
       "          };\n",
       "          s.onerror = () => reject(`Error loading script: ${paths[lib]}`);\n",
       "          s.src = paths[lib];\n",
       "        });\n",
       "    }\n",
       "\n",
       "    function showError(err) {\n",
       "      outputDiv.innerHTML = `<div class=\"error\" style=\"color:red;\">${err}</div>`;\n",
       "      throw err;\n",
       "    }\n",
       "\n",
       "    function displayChart(vegaEmbed) {\n",
       "      vegaEmbed(outputDiv, spec, embedOpt)\n",
       "        .catch(err => showError(`Javascript Error: ${err.message}<br>This usually means there's a typo in your chart specification. See the javascript console for the full traceback.`));\n",
       "    }\n",
       "\n",
       "    if(typeof define === \"function\" && define.amd) {\n",
       "      requirejs.config({paths});\n",
       "      require([\"vega-embed\"], displayChart, err => showError(`Error loading script: ${err.message}`));\n",
       "    } else {\n",
       "      maybeLoadScript(\"vega\", \"5\")\n",
       "        .then(() => maybeLoadScript(\"vega-lite\", \"5.20.1\"))\n",
       "        .then(() => maybeLoadScript(\"vega-embed\", \"6\"))\n",
       "        .catch(showError)\n",
       "        .then(() => displayChart(vegaEmbed));\n",
       "    }\n",
       "  })({\"$schema\": \"https://vega.github.io/schema/vega/v5.json\", \"data\": [{\"name\": \"source_6\", \"values\": [{\"category\": \"Observed\"}, {\"category\": \"Synthetic\"}]}, {\"name\": \"source_0\", \"values\": [{\"Sex\": \"Male\", \"__count\": 4602}, {\"Sex\": \"Female\", \"__count\": 5320}, {\"Sex\": \"Non-binary\", \"__count\": 64}, {\"Sex\": \"Other\", \"__count\": 14}]}, {\"name\": \"source_1\", \"values\": [{\"Sex\": \"Male\", \"__count\": 4614}, {\"Sex\": \"Female\", \"__count\": 5264}, {\"Sex\": \"Non-binary\", \"__count\": 74}, {\"Sex\": \"Other\", \"__count\": 48}]}, {\"name\": \"source_2\", \"values\": [{\"Race\": \"White\", \"__count\": 6920}, {\"Race\": \"Black\", \"__count\": 1365}, {\"Race\": \"Asian\", \"__count\": 259}, {\"Race\": \"Two or more\", \"__count\": 279}, {\"Race\": \"Other\", \"__count\": 172}, {\"Race\": \"Native American\", \"__count\": 89}, {\"Race\": \"Middle Eastern\", \"__count\": 23}]}, {\"name\": \"source_3\", \"values\": [{\"Race\": \"White\", \"__count\": 7530}, {\"Race\": \"Black\", \"__count\": 1506}, {\"Race\": \"Asian\", \"__count\": 290}, {\"Race\": \"Other\", \"__count\": 213}, {\"Race\": \"Native American\", \"__count\": 88}, {\"Race\": \"Two or more\", \"__count\": 328}, {\"Race\": \"Middle Eastern\", \"__count\": 45}]}, {\"name\": \"source_4\", \"values\": [{\"Age\": \"(49, 55]\", \"__count\": 933}, {\"Age\": \"(42, 49]\", \"__count\": 1038}, {\"Age\": \"(55, 60]\", \"__count\": 961}, {\"Age\": \"(35, 42]\", \"__count\": 1216}, {\"Age\": \"(60, 65]\", \"__count\": 1165}, {\"Age\": \"(65, 70]\", \"__count\": 926}, {\"Age\": \"(27, 35]\", \"__count\": 1210}, {\"Age\": \"(-inf, 27]\", \"__count\": 1075}, {\"Age\": \"(70, 77]\", \"__count\": 968}, {\"Age\": \"(77, inf]\", \"__count\": 508}]}, {\"name\": \"source_5\", \"values\": [{\"Age\": \"(27, 35]\", \"__count\": 1296}, {\"Age\": \"(65, 70]\", \"__count\": 955}, {\"Age\": \"(-inf, 27]\", \"__count\": 1042}, {\"Age\": \"(49, 55]\", \"__count\": 861}, {\"Age\": \"(42, 49]\", \"__count\": 1091}, {\"Age\": \"(60, 65]\", \"__count\": 1140}, {\"Age\": \"(77, inf]\", \"__count\": 559}, {\"Age\": \"(35, 42]\", \"__count\": 1138}, {\"Age\": \"(55, 60]\", \"__count\": 998}, {\"Age\": \"(70, 77]\", \"__count\": 920}]}, {\"name\": \"source_0_concat_0_concat_0_y_domain_Sex\", \"values\": [{\"Sex\": \"Male\"}, {\"Sex\": \"Female\"}, {\"Sex\": \"Non-binary\"}, {\"Sex\": \"Other\"}]}, {\"name\": \"source_1_concat_0_concat_1_y_domain_Sex\", \"values\": [{\"Sex\": \"Male\"}, {\"Sex\": \"Female\"}, {\"Sex\": \"Non-binary\"}, {\"Sex\": \"Other\"}]}, {\"name\": \"source_2_concat_1_concat_0_y_domain_Race\", \"values\": [{\"Race\": \"White\"}, {\"Race\": \"Black\"}, {\"Race\": \"Asian\"}, {\"Race\": \"Two or more\"}, {\"Race\": \"Other\"}, {\"Race\": \"Native American\"}, {\"Race\": \"Middle Eastern\"}]}, {\"name\": \"source_3_concat_1_concat_1_y_domain_Race\", \"values\": [{\"Race\": \"White\"}, {\"Race\": \"Black\"}, {\"Race\": \"Asian\"}, {\"Race\": \"Other\"}, {\"Race\": \"Native American\"}, {\"Race\": \"Two or more\"}, {\"Race\": \"Middle Eastern\"}]}, {\"name\": \"source_4_concat_2_concat_0_y_domain_Age\", \"values\": [{\"Age\": \"(49, 55]\"}, {\"Age\": \"(42, 49]\"}, {\"Age\": \"(55, 60]\"}, {\"Age\": \"(35, 42]\"}, {\"Age\": \"(60, 65]\"}, {\"Age\": \"(65, 70]\"}, {\"Age\": \"(27, 35]\"}, {\"Age\": \"(-inf, 27]\"}, {\"Age\": \"(70, 77]\"}, {\"Age\": \"(77, inf]\"}]}, {\"name\": \"source_5_concat_2_concat_1_y_domain_Age\", \"values\": [{\"Age\": \"(27, 35]\"}, {\"Age\": \"(65, 70]\"}, {\"Age\": \"(-inf, 27]\"}, {\"Age\": \"(49, 55]\"}, {\"Age\": \"(42, 49]\"}, {\"Age\": \"(60, 65]\"}, {\"Age\": \"(77, inf]\"}, {\"Age\": \"(35, 42]\"}, {\"Age\": \"(55, 60]\"}, {\"Age\": \"(70, 77]\"}]}], \"signals\": [{\"name\": \"concat_0_childWidth\", \"value\": 300}, {\"name\": \"concat_0_concat_0_y_step\", \"value\": 20}, {\"name\": \"concat_0_concat_0_height\", \"update\": \"bandspace(domain('concat_0_concat_0_y').length, 0.1, 0.05) * concat_0_concat_0_y_step\"}, {\"name\": \"concat_0_concat_1_y_step\", \"value\": 20}, {\"name\": \"concat_0_concat_1_height\", \"update\": \"bandspace(domain('concat_0_concat_1_y').length, 0.1, 0.05) * concat_0_concat_1_y_step\"}, {\"name\": \"concat_1_childWidth\", \"value\": 300}, {\"name\": \"concat_1_concat_0_y_step\", \"value\": 20}, {\"name\": \"concat_1_concat_0_height\", \"update\": \"bandspace(domain('concat_1_concat_0_y').length, 0.1, 0.05) * concat_1_concat_0_y_step\"}, {\"name\": \"concat_1_concat_1_y_step\", \"value\": 20}, {\"name\": \"concat_1_concat_1_height\", \"update\": \"bandspace(domain('concat_1_concat_1_y').length, 0.1, 0.05) * concat_1_concat_1_y_step\"}, {\"name\": \"concat_2_childWidth\", \"value\": 300}, {\"name\": \"concat_2_concat_0_y_step\", \"value\": 20}, {\"name\": \"concat_2_concat_0_height\", \"update\": \"bandspace(domain('concat_2_concat_0_y').length, 0.1, 0.05) * concat_2_concat_0_y_step\"}, {\"name\": \"concat_2_concat_1_y_step\", \"value\": 20}, {\"name\": \"concat_2_concat_1_height\", \"update\": \"bandspace(domain('concat_2_concat_1_y').length, 0.1, 0.05) * concat_2_concat_1_y_step\"}, {\"name\": \"concat_3_width\", \"value\": 20}, {\"name\": \"concat_3_height\", \"value\": 20}], \"marks\": [{\"type\": \"group\", \"name\": \"concat_0_group\", \"marks\": [{\"type\": \"group\", \"name\": \"concat_0_concat_0_group\", \"encode\": {\"update\": {\"height\": {\"signal\": \"concat_0_concat_0_height\"}, \"width\": {\"signal\": \"concat_0_childWidth\"}}}, \"marks\": [{\"type\": \"rect\", \"name\": \"concat_0_concat_0_marks\", \"from\": {\"data\": \"source_0\"}, \"encode\": {\"update\": {\"y\": {\"field\": \"Sex\", \"scale\": \"concat_0_concat_0_y\"}, \"x2\": {\"value\": 0, \"scale\": \"concat_0_concat_0_x\"}, \"height\": {\"signal\": \"max(0.25, bandwidth('concat_0_concat_0_y'))\"}, \"fill\": {\"value\": \"#000000\"}, \"x\": {\"field\": \"__count\", \"scale\": \"concat_0_concat_0_x\"}}}, \"style\": [\"bar\"]}], \"axes\": [{\"scale\": \"concat_0_concat_0_x\", \"minExtent\": 0, \"maxExtent\": 0, \"gridScale\": \"concat_0_concat_0_y\", \"ticks\": false, \"zindex\": 0, \"domain\": false, \"orient\": \"top\", \"grid\": true, \"tickCount\": {\"signal\": \"ceil(concat_0_childWidth/40)\"}, \"labels\": false, \"aria\": false}, {\"scale\": \"concat_0_concat_0_x\", \"labelFlush\": true, \"orient\": \"top\", \"labelOverlap\": true, \"tickCount\": {\"signal\": \"ceil(concat_0_childWidth/40)\"}, \"zindex\": 0, \"title\": \"Count of Records\", \"grid\": false}, {\"scale\": \"concat_0_concat_0_y\", \"zindex\": 0, \"orient\": \"left\", \"titleAlign\": \"right\", \"titleAnchor\": \"start\", \"titleAngle\": 0, \"title\": \"Sex\", \"titlePadding\": 1, \"grid\": false}], \"style\": \"cell\"}, {\"type\": \"group\", \"name\": \"concat_0_concat_1_group\", \"encode\": {\"update\": {\"height\": {\"signal\": \"concat_0_concat_1_height\"}, \"width\": {\"signal\": \"concat_0_childWidth\"}}}, \"marks\": [{\"type\": \"rect\", \"name\": \"concat_0_concat_1_marks\", \"from\": {\"data\": \"source_1\"}, \"encode\": {\"update\": {\"x2\": {\"value\": 0, \"scale\": \"concat_0_concat_1_x\"}, \"x\": {\"field\": \"__count\", \"scale\": \"concat_0_concat_1_x\"}, \"fill\": {\"value\": \"#f28e2b\"}, \"y\": {\"field\": \"Sex\", \"scale\": \"concat_0_concat_1_y\"}, \"height\": {\"signal\": \"max(0.25, bandwidth('concat_0_concat_1_y'))\"}}}, \"style\": [\"bar\"]}], \"axes\": [{\"scale\": \"concat_0_concat_1_x\", \"grid\": true, \"domain\": false, \"aria\": false, \"gridScale\": \"concat_0_concat_1_y\", \"maxExtent\": 0, \"minExtent\": 0, \"tickCount\": {\"signal\": \"ceil(concat_0_childWidth/40)\"}, \"labels\": false, \"orient\": \"top\", \"ticks\": false, \"zindex\": 0}, {\"scale\": \"concat_0_concat_1_x\", \"labelOverlap\": true, \"zindex\": 0, \"orient\": \"top\", \"labelFlush\": true, \"grid\": false, \"title\": \"Count of Records\", \"tickCount\": {\"signal\": \"ceil(concat_0_childWidth/40)\"}}, {\"scale\": \"concat_0_concat_1_y\", \"orient\": \"left\", \"titleAngle\": 0, \"zindex\": 0, \"grid\": false, \"title\": \"Sex\", \"titlePadding\": 1, \"titleAnchor\": \"start\", \"titleAlign\": \"right\"}], \"style\": \"cell\"}], \"layout\": {\"padding\": 20, \"bounds\": \"full\", \"align\": \"each\"}}, {\"type\": \"group\", \"name\": \"concat_1_group\", \"marks\": [{\"type\": \"group\", \"name\": \"concat_1_concat_0_group\", \"encode\": {\"update\": {\"height\": {\"signal\": \"concat_1_concat_0_height\"}, \"width\": {\"signal\": \"concat_1_childWidth\"}}}, \"marks\": [{\"type\": \"rect\", \"name\": \"concat_1_concat_0_marks\", \"from\": {\"data\": \"source_2\"}, \"encode\": {\"update\": {\"x2\": {\"value\": 0, \"scale\": \"concat_1_concat_0_x\"}, \"y\": {\"field\": \"Race\", \"scale\": \"concat_1_concat_0_y\"}, \"fill\": {\"value\": \"#000000\"}, \"x\": {\"field\": \"__count\", \"scale\": \"concat_1_concat_0_x\"}, \"height\": {\"signal\": \"max(0.25, bandwidth('concat_1_concat_0_y'))\"}}}, \"style\": [\"bar\"]}], \"axes\": [{\"scale\": \"concat_1_concat_0_x\", \"orient\": \"top\", \"domain\": false, \"labels\": false, \"maxExtent\": 0, \"gridScale\": \"concat_1_concat_0_y\", \"ticks\": false, \"tickCount\": {\"signal\": \"ceil(concat_1_childWidth/40)\"}, \"zindex\": 0, \"minExtent\": 0, \"aria\": false, \"grid\": true}, {\"scale\": \"concat_1_concat_0_x\", \"labelFlush\": true, \"labelOverlap\": true, \"tickCount\": {\"signal\": \"ceil(concat_1_childWidth/40)\"}, \"zindex\": 0, \"grid\": false, \"title\": \"Count of Records\", \"orient\": \"top\"}, {\"scale\": \"concat_1_concat_0_y\", \"titleAlign\": \"right\", \"titleAngle\": 0, \"title\": \"Race\", \"orient\": \"left\", \"titlePadding\": 1, \"grid\": false, \"zindex\": 0, \"titleAnchor\": \"start\"}], \"style\": \"cell\"}, {\"type\": \"group\", \"name\": \"concat_1_concat_1_group\", \"encode\": {\"update\": {\"width\": {\"signal\": \"concat_1_childWidth\"}, \"height\": {\"signal\": \"concat_1_concat_1_height\"}}}, \"marks\": [{\"type\": \"rect\", \"name\": \"concat_1_concat_1_marks\", \"from\": {\"data\": \"source_3\"}, \"encode\": {\"update\": {\"x\": {\"field\": \"__count\", \"scale\": \"concat_1_concat_1_x\"}, \"fill\": {\"value\": \"#f28e2b\"}, \"x2\": {\"value\": 0, \"scale\": \"concat_1_concat_1_x\"}, \"y\": {\"field\": \"Race\", \"scale\": \"concat_1_concat_1_y\"}, \"height\": {\"signal\": \"max(0.25, bandwidth('concat_1_concat_1_y'))\"}}}, \"style\": [\"bar\"]}], \"axes\": [{\"scale\": \"concat_1_concat_1_x\", \"gridScale\": \"concat_1_concat_1_y\", \"zindex\": 0, \"orient\": \"top\", \"grid\": true, \"maxExtent\": 0, \"labels\": false, \"tickCount\": {\"signal\": \"ceil(concat_1_childWidth/40)\"}, \"ticks\": false, \"domain\": false, \"minExtent\": 0, \"aria\": false}, {\"scale\": \"concat_1_concat_1_x\", \"labelFlush\": true, \"tickCount\": {\"signal\": \"ceil(concat_1_childWidth/40)\"}, \"labelOverlap\": true, \"zindex\": 0, \"orient\": \"top\", \"grid\": false, \"title\": \"Count of Records\"}, {\"scale\": \"concat_1_concat_1_y\", \"titlePadding\": 1, \"titleAnchor\": \"start\", \"titleAlign\": \"right\", \"grid\": false, \"titleAngle\": 0, \"title\": \"Race\", \"orient\": \"left\", \"zindex\": 0}], \"style\": \"cell\"}], \"layout\": {\"padding\": 20, \"bounds\": \"full\", \"align\": \"each\"}}, {\"type\": \"group\", \"name\": \"concat_2_group\", \"marks\": [{\"type\": \"group\", \"name\": \"concat_2_concat_0_group\", \"encode\": {\"update\": {\"width\": {\"signal\": \"concat_2_childWidth\"}, \"height\": {\"signal\": \"concat_2_concat_0_height\"}}}, \"marks\": [{\"type\": \"rect\", \"name\": \"concat_2_concat_0_marks\", \"from\": {\"data\": \"source_4\"}, \"encode\": {\"update\": {\"x\": {\"field\": \"__count\", \"scale\": \"concat_2_concat_0_x\"}, \"x2\": {\"value\": 0, \"scale\": \"concat_2_concat_0_x\"}, \"y\": {\"field\": \"Age\", \"scale\": \"concat_2_concat_0_y\"}, \"height\": {\"signal\": \"max(0.25, bandwidth('concat_2_concat_0_y'))\"}, \"fill\": {\"value\": \"#000000\"}}}, \"style\": [\"bar\"]}], \"axes\": [{\"scale\": \"concat_2_concat_0_x\", \"orient\": \"top\", \"grid\": true, \"aria\": false, \"ticks\": false, \"labels\": false, \"zindex\": 0, \"minExtent\": 0, \"gridScale\": \"concat_2_concat_0_y\", \"maxExtent\": 0, \"domain\": false, \"tickCount\": {\"signal\": \"ceil(concat_2_childWidth/40)\"}}, {\"scale\": \"concat_2_concat_0_x\", \"tickCount\": {\"signal\": \"ceil(concat_2_childWidth/40)\"}, \"zindex\": 0, \"orient\": \"top\", \"grid\": false, \"title\": \"Count of Records\", \"labelOverlap\": true, \"labelFlush\": true}, {\"scale\": \"concat_2_concat_0_y\", \"title\": \"Age\", \"orient\": \"left\", \"titlePadding\": 1, \"zindex\": 0, \"titleAlign\": \"right\", \"titleAnchor\": \"start\", \"titleAngle\": 0, \"grid\": false}], \"style\": \"cell\"}, {\"type\": \"group\", \"name\": \"concat_2_concat_1_group\", \"encode\": {\"update\": {\"width\": {\"signal\": \"concat_2_childWidth\"}, \"height\": {\"signal\": \"concat_2_concat_1_height\"}}}, \"marks\": [{\"type\": \"rect\", \"name\": \"concat_2_concat_1_marks\", \"from\": {\"data\": \"source_5\"}, \"encode\": {\"update\": {\"x\": {\"field\": \"__count\", \"scale\": \"concat_2_concat_1_x\"}, \"y\": {\"field\": \"Age\", \"scale\": \"concat_2_concat_1_y\"}, \"x2\": {\"value\": 0, \"scale\": \"concat_2_concat_1_x\"}, \"height\": {\"signal\": \"max(0.25, bandwidth('concat_2_concat_1_y'))\"}, \"fill\": {\"value\": \"#f28e2b\"}}}, \"style\": [\"bar\"]}], \"axes\": [{\"scale\": \"concat_2_concat_1_x\", \"domain\": false, \"aria\": false, \"tickCount\": {\"signal\": \"ceil(concat_2_childWidth/40)\"}, \"labels\": false, \"minExtent\": 0, \"grid\": true, \"gridScale\": \"concat_2_concat_1_y\", \"ticks\": false, \"orient\": \"top\", \"maxExtent\": 0, \"zindex\": 0}, {\"scale\": \"concat_2_concat_1_x\", \"grid\": false, \"tickCount\": {\"signal\": \"ceil(concat_2_childWidth/40)\"}, \"title\": \"Count of Records\", \"labelOverlap\": true, \"orient\": \"top\", \"labelFlush\": true, \"zindex\": 0}, {\"scale\": \"concat_2_concat_1_y\", \"orient\": \"left\", \"titleAlign\": \"right\", \"titleAnchor\": \"start\", \"titlePadding\": 1, \"title\": \"Age\", \"titleAngle\": 0, \"grid\": false, \"zindex\": 0}], \"style\": \"cell\"}], \"layout\": {\"padding\": 20, \"bounds\": \"full\", \"align\": \"each\"}}, {\"type\": \"group\", \"name\": \"concat_3_group\", \"encode\": {\"update\": {\"width\": {\"signal\": \"concat_3_width\"}, \"height\": {\"signal\": \"concat_3_height\"}}}, \"marks\": [{\"type\": \"symbol\", \"name\": \"concat_3_marks\", \"from\": {\"data\": \"source_6\"}, \"encode\": {\"update\": {\"size\": {\"value\": 0}, \"stroke\": {\"field\": \"category\", \"scale\": \"concat_3_color\"}, \"fill\": {\"value\": \"transparent\"}, \"x\": {\"signal\": \"concat_3_width\", \"mult\": 0.5}, \"y\": {\"signal\": \"concat_3_height\", \"mult\": 0.5}, \"opacity\": {\"value\": 0}}}, \"style\": [\"point\"]}], \"legends\": [{\"symbolStrokeWidth\": 4, \"title\": \"Legend\", \"stroke\": \"concat_3_color\", \"symbolType\": \"circle\", \"encode\": {\"symbols\": {\"update\": {\"fill\": {\"value\": \"transparent\"}}}}}], \"style\": \"view\"}], \"scales\": [{\"name\": \"concat_0_concat_0_x\", \"type\": \"linear\", \"domain\": [0, 5320], \"range\": [0, {\"signal\": \"concat_0_childWidth\"}], \"zero\": true}, {\"name\": \"concat_0_concat_0_y\", \"type\": \"band\", \"domain\": {\"data\": \"source_0_concat_0_concat_0_y_domain_Sex\", \"field\": \"Sex\", \"sort\": true}, \"range\": {\"step\": {\"signal\": \"concat_0_concat_0_y_step\"}}, \"paddingOuter\": 0.05, \"paddingInner\": 0.1}, {\"name\": \"concat_0_concat_1_x\", \"type\": \"linear\", \"domain\": [0, 5320], \"range\": [0, {\"signal\": \"concat_0_childWidth\"}], \"zero\": true}, {\"name\": \"concat_0_concat_1_y\", \"type\": \"band\", \"domain\": {\"data\": \"source_1_concat_0_concat_1_y_domain_Sex\", \"field\": \"Sex\", \"sort\": true}, \"range\": {\"step\": {\"signal\": \"concat_0_concat_1_y_step\"}}, \"paddingInner\": 0.1, \"paddingOuter\": 0.05}, {\"name\": \"concat_1_concat_0_x\", \"type\": \"linear\", \"domain\": [0, 7530], \"range\": [0, {\"signal\": \"concat_1_childWidth\"}], \"zero\": true}, {\"name\": \"concat_1_concat_0_y\", \"type\": \"band\", \"domain\": {\"data\": \"source_2_concat_1_concat_0_y_domain_Race\", \"field\": \"Race\", \"sort\": true}, \"range\": {\"step\": {\"signal\": \"concat_1_concat_0_y_step\"}}, \"paddingInner\": 0.1, \"paddingOuter\": 0.05}, {\"name\": \"concat_1_concat_1_x\", \"type\": \"linear\", \"domain\": [0, 7530], \"range\": [0, {\"signal\": \"concat_1_childWidth\"}], \"zero\": true}, {\"name\": \"concat_1_concat_1_y\", \"type\": \"band\", \"domain\": {\"data\": \"source_3_concat_1_concat_1_y_domain_Race\", \"field\": \"Race\", \"sort\": true}, \"range\": {\"step\": {\"signal\": \"concat_1_concat_1_y_step\"}}, \"paddingInner\": 0.1, \"paddingOuter\": 0.05}, {\"name\": \"concat_2_concat_0_x\", \"type\": \"linear\", \"domain\": [0, 1296], \"range\": [0, {\"signal\": \"concat_2_childWidth\"}], \"zero\": true}, {\"name\": \"concat_2_concat_0_y\", \"type\": \"band\", \"domain\": {\"data\": \"source_4_concat_2_concat_0_y_domain_Age\", \"field\": \"Age\", \"sort\": true}, \"range\": {\"step\": {\"signal\": \"concat_2_concat_0_y_step\"}}, \"paddingInner\": 0.1, \"paddingOuter\": 0.05}, {\"name\": \"concat_2_concat_1_x\", \"type\": \"linear\", \"domain\": [0, 1296], \"range\": [0, {\"signal\": \"concat_2_childWidth\"}], \"zero\": true}, {\"name\": \"concat_2_concat_1_y\", \"type\": \"band\", \"domain\": {\"data\": \"source_5_concat_2_concat_1_y_domain_Age\", \"field\": \"Age\", \"sort\": true}, \"range\": {\"step\": {\"signal\": \"concat_2_concat_1_y_step\"}}, \"paddingOuter\": 0.05, \"paddingInner\": 0.1}, {\"name\": \"concat_3_color\", \"type\": \"ordinal\", \"domain\": [\"Observed\", \"Synthetic\"], \"range\": [\"#000000\", \"#f28e2b\"]}], \"title\": {\"text\": \"1-D Marginals\", \"anchor\": \"start\"}, \"padding\": 5, \"layout\": {\"padding\": 20, \"columns\": 1, \"bounds\": \"full\", \"align\": \"each\"}, \"background\": \"white\"}, {\"mode\": \"vega\"});\n",
       "</script>"
      ],
      "text/plain": [
       "alt.VConcatChart(...)"
      ]
     },
     "execution_count": 8,
     "metadata": {},
     "output_type": "execute_result"
    }
   ],
   "source": [
    "plot_marginal_1d(df, df_generated, columns=[\"Sex\", \"Race\", \"Age\"])"
   ]
  },
  {
   "cell_type": "code",
   "execution_count": 9,
   "id": "29aa7c73-9e3d-4941-9e1f-e9ec448c11ad",
   "metadata": {},
   "outputs": [
    {
     "data": {
      "text/html": [
       "\n",
       "<style>\n",
       "  #altair-viz-e784759aca4045568d16bbd9233d42a5.vega-embed {\n",
       "    width: 100%;\n",
       "    display: flex;\n",
       "  }\n",
       "\n",
       "  #altair-viz-e784759aca4045568d16bbd9233d42a5.vega-embed details,\n",
       "  #altair-viz-e784759aca4045568d16bbd9233d42a5.vega-embed details summary {\n",
       "    position: relative;\n",
       "  }\n",
       "</style>\n",
       "<div id=\"altair-viz-e784759aca4045568d16bbd9233d42a5\"></div>\n",
       "<script type=\"text/javascript\">\n",
       "  var VEGA_DEBUG = (typeof VEGA_DEBUG == \"undefined\") ? {} : VEGA_DEBUG;\n",
       "  (function(spec, embedOpt){\n",
       "    let outputDiv = document.currentScript.previousElementSibling;\n",
       "    if (outputDiv.id !== \"altair-viz-e784759aca4045568d16bbd9233d42a5\") {\n",
       "      outputDiv = document.getElementById(\"altair-viz-e784759aca4045568d16bbd9233d42a5\");\n",
       "    }\n",
       "    const paths = {\n",
       "      \"vega\": \"https://cdn.jsdelivr.net/npm/vega@5?noext\",\n",
       "      \"vega-lib\": \"https://cdn.jsdelivr.net/npm/vega-lib?noext\",\n",
       "      \"vega-lite\": \"https://cdn.jsdelivr.net/npm/vega-lite@5.20.1?noext\",\n",
       "      \"vega-embed\": \"https://cdn.jsdelivr.net/npm/vega-embed@6?noext\",\n",
       "    };\n",
       "\n",
       "    function maybeLoadScript(lib, version) {\n",
       "      var key = `${lib.replace(\"-\", \"\")}_version`;\n",
       "      return (VEGA_DEBUG[key] == version) ?\n",
       "        Promise.resolve(paths[lib]) :\n",
       "        new Promise(function(resolve, reject) {\n",
       "          var s = document.createElement('script');\n",
       "          document.getElementsByTagName(\"head\")[0].appendChild(s);\n",
       "          s.async = true;\n",
       "          s.onload = () => {\n",
       "            VEGA_DEBUG[key] = version;\n",
       "            return resolve(paths[lib]);\n",
       "          };\n",
       "          s.onerror = () => reject(`Error loading script: ${paths[lib]}`);\n",
       "          s.src = paths[lib];\n",
       "        });\n",
       "    }\n",
       "\n",
       "    function showError(err) {\n",
       "      outputDiv.innerHTML = `<div class=\"error\" style=\"color:red;\">${err}</div>`;\n",
       "      throw err;\n",
       "    }\n",
       "\n",
       "    function displayChart(vegaEmbed) {\n",
       "      vegaEmbed(outputDiv, spec, embedOpt)\n",
       "        .catch(err => showError(`Javascript Error: ${err.message}<br>This usually means there's a typo in your chart specification. See the javascript console for the full traceback.`));\n",
       "    }\n",
       "\n",
       "    if(typeof define === \"function\" && define.amd) {\n",
       "      requirejs.config({paths});\n",
       "      require([\"vega-embed\"], displayChart, err => showError(`Error loading script: ${err.message}`));\n",
       "    } else {\n",
       "      maybeLoadScript(\"vega\", \"5\")\n",
       "        .then(() => maybeLoadScript(\"vega-lite\", \"5.20.1\"))\n",
       "        .then(() => maybeLoadScript(\"vega-embed\", \"6\"))\n",
       "        .catch(showError)\n",
       "        .then(() => displayChart(vegaEmbed));\n",
       "    }\n",
       "  })({\"$schema\": \"https://vega.github.io/schema/vega/v5.json\", \"data\": [{\"name\": \"source_0\"}, {\"name\": \"data_0\", \"values\": [{\"Age\": \"(-inf, 27]\", \"Normalized frequency\": 0.0566, \"Sex\": \"Female\"}, {\"Age\": \"(27, 35]\", \"Normalized frequency\": 0.0683, \"Sex\": \"Female\"}, {\"Age\": \"(35, 42]\", \"Normalized frequency\": 0.0675, \"Sex\": \"Female\"}, {\"Age\": \"(42, 49]\", \"Normalized frequency\": 0.0569, \"Sex\": \"Female\"}, {\"Age\": \"(49, 55]\", \"Normalized frequency\": 0.053, \"Sex\": \"Female\"}, {\"Age\": \"(55, 60]\", \"Normalized frequency\": 0.0512, \"Sex\": \"Female\"}, {\"Age\": \"(60, 65]\", \"Normalized frequency\": 0.0604, \"Sex\": \"Female\"}, {\"Age\": \"(65, 70]\", \"Normalized frequency\": 0.046, \"Sex\": \"Female\"}, {\"Age\": \"(70, 77]\", \"Normalized frequency\": 0.0473, \"Sex\": \"Female\"}, {\"Age\": \"(77, inf]\", \"Normalized frequency\": 0.0248, \"Sex\": \"Female\"}, {\"Age\": \"(-inf, 27]\", \"Normalized frequency\": 0.0474, \"Sex\": \"Male\"}, {\"Age\": \"(27, 35]\", \"Normalized frequency\": 0.0513, \"Sex\": \"Male\"}, {\"Age\": \"(35, 42]\", \"Normalized frequency\": 0.0526, \"Sex\": \"Male\"}, {\"Age\": \"(42, 49]\", \"Normalized frequency\": 0.0467, \"Sex\": \"Male\"}, {\"Age\": \"(49, 55]\", \"Normalized frequency\": 0.0399, \"Sex\": \"Male\"}, {\"Age\": \"(55, 60]\", \"Normalized frequency\": 0.0447, \"Sex\": \"Male\"}, {\"Age\": \"(60, 65]\", \"Normalized frequency\": 0.0558, \"Sex\": \"Male\"}, {\"Age\": \"(65, 70]\", \"Normalized frequency\": 0.0465, \"Sex\": \"Male\"}, {\"Age\": \"(70, 77]\", \"Normalized frequency\": 0.0493, \"Sex\": \"Male\"}, {\"Age\": \"(77, inf]\", \"Normalized frequency\": 0.026, \"Sex\": \"Male\"}, {\"Age\": \"(-inf, 27]\", \"Normalized frequency\": 0.0034, \"Sex\": \"Non-binary\"}, {\"Age\": \"(27, 35]\", \"Normalized frequency\": 0.0011, \"Sex\": \"Non-binary\"}, {\"Age\": \"(35, 42]\", \"Normalized frequency\": 0.0011, \"Sex\": \"Non-binary\"}, {\"Age\": \"(42, 49]\", \"Normalized frequency\": 0.0001, \"Sex\": \"Non-binary\"}, {\"Age\": \"(49, 55]\", \"Normalized frequency\": 0.0004, \"Sex\": \"Non-binary\"}, {\"Age\": \"(55, 60]\", \"Normalized frequency\": 0.0, \"Sex\": \"Non-binary\"}, {\"Age\": \"(60, 65]\", \"Normalized frequency\": 0.0002, \"Sex\": \"Non-binary\"}, {\"Age\": \"(65, 70]\", \"Normalized frequency\": 0.0, \"Sex\": \"Non-binary\"}, {\"Age\": \"(70, 77]\", \"Normalized frequency\": 0.0001, \"Sex\": \"Non-binary\"}, {\"Age\": \"(77, inf]\", \"Normalized frequency\": 0.0, \"Sex\": \"Non-binary\"}, {\"Age\": \"(-inf, 27]\", \"Normalized frequency\": 0.0001, \"Sex\": \"Other\"}, {\"Age\": \"(27, 35]\", \"Normalized frequency\": 0.0003, \"Sex\": \"Other\"}, {\"Age\": \"(35, 42]\", \"Normalized frequency\": 0.0004, \"Sex\": \"Other\"}, {\"Age\": \"(42, 49]\", \"Normalized frequency\": 0.0001, \"Sex\": \"Other\"}, {\"Age\": \"(49, 55]\", \"Normalized frequency\": 0.0, \"Sex\": \"Other\"}, {\"Age\": \"(55, 60]\", \"Normalized frequency\": 0.0002, \"Sex\": \"Other\"}, {\"Age\": \"(60, 65]\", \"Normalized frequency\": 0.0001, \"Sex\": \"Other\"}, {\"Age\": \"(65, 70]\", \"Normalized frequency\": 0.0001, \"Sex\": \"Other\"}, {\"Age\": \"(70, 77]\", \"Normalized frequency\": 0.0001, \"Sex\": \"Other\"}, {\"Age\": \"(77, inf]\", \"Normalized frequency\": 0.0, \"Sex\": \"Other\"}]}, {\"name\": \"data_1\", \"values\": [{\"Age\": \"(-inf, 27]\", \"Normalized frequency\": 0.0506, \"Sex\": \"Female\"}, {\"Age\": \"(27, 35]\", \"Normalized frequency\": 0.0686, \"Sex\": \"Female\"}, {\"Age\": \"(35, 42]\", \"Normalized frequency\": 0.0597, \"Sex\": \"Female\"}, {\"Age\": \"(42, 49]\", \"Normalized frequency\": 0.0602, \"Sex\": \"Female\"}, {\"Age\": \"(49, 55]\", \"Normalized frequency\": 0.0493, \"Sex\": \"Female\"}, {\"Age\": \"(55, 60]\", \"Normalized frequency\": 0.0493, \"Sex\": \"Female\"}, {\"Age\": \"(60, 65]\", \"Normalized frequency\": 0.0575, \"Sex\": \"Female\"}, {\"Age\": \"(65, 70]\", \"Normalized frequency\": 0.0542, \"Sex\": \"Female\"}, {\"Age\": \"(70, 77]\", \"Normalized frequency\": 0.0499, \"Sex\": \"Female\"}, {\"Age\": \"(77, inf]\", \"Normalized frequency\": 0.0271, \"Sex\": \"Female\"}, {\"Age\": \"(-inf, 27]\", \"Normalized frequency\": 0.051, \"Sex\": \"Male\"}, {\"Age\": \"(27, 35]\", \"Normalized frequency\": 0.0586, \"Sex\": \"Male\"}, {\"Age\": \"(35, 42]\", \"Normalized frequency\": 0.0522, \"Sex\": \"Male\"}, {\"Age\": \"(42, 49]\", \"Normalized frequency\": 0.0476, \"Sex\": \"Male\"}, {\"Age\": \"(49, 55]\", \"Normalized frequency\": 0.0361, \"Sex\": \"Male\"}, {\"Age\": \"(55, 60]\", \"Normalized frequency\": 0.0495, \"Sex\": \"Male\"}, {\"Age\": \"(60, 65]\", \"Normalized frequency\": 0.0557, \"Sex\": \"Male\"}, {\"Age\": \"(65, 70]\", \"Normalized frequency\": 0.0408, \"Sex\": \"Male\"}, {\"Age\": \"(70, 77]\", \"Normalized frequency\": 0.0417, \"Sex\": \"Male\"}, {\"Age\": \"(77, inf]\", \"Normalized frequency\": 0.0282, \"Sex\": \"Male\"}, {\"Age\": \"(-inf, 27]\", \"Normalized frequency\": 0.0018, \"Sex\": \"Non-binary\"}, {\"Age\": \"(27, 35]\", \"Normalized frequency\": 0.0018, \"Sex\": \"Non-binary\"}, {\"Age\": \"(35, 42]\", \"Normalized frequency\": 0.0015, \"Sex\": \"Non-binary\"}, {\"Age\": \"(42, 49]\", \"Normalized frequency\": 0.0005, \"Sex\": \"Non-binary\"}, {\"Age\": \"(49, 55]\", \"Normalized frequency\": 0.0002, \"Sex\": \"Non-binary\"}, {\"Age\": \"(55, 60]\", \"Normalized frequency\": 0.0005, \"Sex\": \"Non-binary\"}, {\"Age\": \"(60, 65]\", \"Normalized frequency\": 0.0005, \"Sex\": \"Non-binary\"}, {\"Age\": \"(65, 70]\", \"Normalized frequency\": 0.0002, \"Sex\": \"Non-binary\"}, {\"Age\": \"(70, 77]\", \"Normalized frequency\": 0.0001, \"Sex\": \"Non-binary\"}, {\"Age\": \"(77, inf]\", \"Normalized frequency\": 0.0003, \"Sex\": \"Non-binary\"}, {\"Age\": \"(-inf, 27]\", \"Normalized frequency\": 0.0008, \"Sex\": \"Other\"}, {\"Age\": \"(27, 35]\", \"Normalized frequency\": 0.0006, \"Sex\": \"Other\"}, {\"Age\": \"(35, 42]\", \"Normalized frequency\": 0.0004, \"Sex\": \"Other\"}, {\"Age\": \"(42, 49]\", \"Normalized frequency\": 0.0008, \"Sex\": \"Other\"}, {\"Age\": \"(49, 55]\", \"Normalized frequency\": 0.0005, \"Sex\": \"Other\"}, {\"Age\": \"(55, 60]\", \"Normalized frequency\": 0.0005, \"Sex\": \"Other\"}, {\"Age\": \"(60, 65]\", \"Normalized frequency\": 0.0003, \"Sex\": \"Other\"}, {\"Age\": \"(65, 70]\", \"Normalized frequency\": 0.0003, \"Sex\": \"Other\"}, {\"Age\": \"(70, 77]\", \"Normalized frequency\": 0.0003, \"Sex\": \"Other\"}, {\"Age\": \"(77, inf]\", \"Normalized frequency\": 0.0003, \"Sex\": \"Other\"}]}, {\"name\": \"data_0_concat_0_x_domain_Sex\", \"values\": [{\"Sex\": \"Female\"}, {\"Sex\": \"Male\"}, {\"Sex\": \"Non-binary\"}, {\"Sex\": \"Other\"}]}, {\"name\": \"data_0_concat_0_y_domain_Age\", \"values\": [{\"Age\": \"(-inf, 27]\"}, {\"Age\": \"(27, 35]\"}, {\"Age\": \"(35, 42]\"}, {\"Age\": \"(42, 49]\"}, {\"Age\": \"(49, 55]\"}, {\"Age\": \"(55, 60]\"}, {\"Age\": \"(60, 65]\"}, {\"Age\": \"(65, 70]\"}, {\"Age\": \"(70, 77]\"}, {\"Age\": \"(77, inf]\"}]}, {\"name\": \"data_1_concat_1_x_domain_Sex\", \"values\": [{\"Sex\": \"Female\"}, {\"Sex\": \"Male\"}, {\"Sex\": \"Non-binary\"}, {\"Sex\": \"Other\"}]}, {\"name\": \"data_1_concat_1_y_domain_Age\", \"values\": [{\"Age\": \"(-inf, 27]\"}, {\"Age\": \"(27, 35]\"}, {\"Age\": \"(35, 42]\"}, {\"Age\": \"(42, 49]\"}, {\"Age\": \"(49, 55]\"}, {\"Age\": \"(55, 60]\"}, {\"Age\": \"(60, 65]\"}, {\"Age\": \"(65, 70]\"}, {\"Age\": \"(70, 77]\"}, {\"Age\": \"(77, inf]\"}]}], \"signals\": [{\"name\": \"concat_0_x_step\", \"value\": 20}, {\"name\": \"concat_0_width\", \"update\": \"bandspace(domain('concat_0_x').length, 0, 0) * concat_0_x_step\"}, {\"name\": \"concat_0_y_step\", \"value\": 20}, {\"name\": \"concat_0_height\", \"update\": \"bandspace(domain('concat_0_y').length, 0, 0) * concat_0_y_step\"}, {\"name\": \"concat_1_x_step\", \"value\": 20}, {\"name\": \"concat_1_width\", \"update\": \"bandspace(domain('concat_1_x').length, 0, 0) * concat_1_x_step\"}, {\"name\": \"concat_1_y_step\", \"value\": 20}, {\"name\": \"concat_1_height\", \"update\": \"bandspace(domain('concat_1_y').length, 0, 0) * concat_1_y_step\"}], \"marks\": [{\"type\": \"group\", \"name\": \"concat_0_group\", \"encode\": {\"update\": {\"height\": {\"signal\": \"concat_0_height\"}, \"width\": {\"signal\": \"concat_0_width\"}}}, \"marks\": [{\"type\": \"rect\", \"name\": \"concat_0_marks\", \"from\": {\"data\": \"data_0\"}, \"encode\": {\"update\": {\"y\": {\"field\": \"Age\", \"scale\": \"concat_0_y\"}, \"height\": {\"signal\": \"max(0.25, bandwidth('concat_0_y'))\"}, \"fill\": {\"field\": \"Normalized frequency\", \"scale\": \"color\"}, \"width\": {\"signal\": \"max(0.25, bandwidth('concat_0_x'))\"}, \"tooltip\": {\"signal\": \"{\\\"Sex\\\": isValid(datum[\\\"Sex\\\"]) ? datum[\\\"Sex\\\"] : \\\"\\\"+datum[\\\"Sex\\\"], \\\"Age\\\": isValid(datum[\\\"Age\\\"]) ? datum[\\\"Age\\\"] : \\\"\\\"+datum[\\\"Age\\\"], \\\"Normalized frequency\\\": format(datum[\\\"Normalized frequency\\\"], \\\"\\\")}\"}, \"x\": {\"field\": \"Sex\", \"scale\": \"concat_0_x\"}}}, \"style\": [\"rect\"]}], \"axes\": [{\"scale\": \"concat_0_x\", \"labelAlign\": \"right\", \"labelAngle\": 270, \"labelBaseline\": \"middle\", \"zindex\": 1, \"orient\": \"bottom\", \"grid\": false, \"title\": \"Sex\"}, {\"scale\": \"concat_0_y\", \"grid\": false, \"zindex\": 1, \"orient\": \"left\", \"title\": \"Age\"}], \"title\": {\"text\": \"Observed\", \"frame\": \"group\"}, \"style\": \"cell\"}, {\"type\": \"group\", \"name\": \"concat_1_group\", \"encode\": {\"update\": {\"width\": {\"signal\": \"concat_1_width\"}, \"height\": {\"signal\": \"concat_1_height\"}}}, \"marks\": [{\"type\": \"rect\", \"name\": \"concat_1_marks\", \"from\": {\"data\": \"data_1\"}, \"encode\": {\"update\": {\"tooltip\": {\"signal\": \"{\\\"Sex\\\": isValid(datum[\\\"Sex\\\"]) ? datum[\\\"Sex\\\"] : \\\"\\\"+datum[\\\"Sex\\\"], \\\"Age\\\": isValid(datum[\\\"Age\\\"]) ? datum[\\\"Age\\\"] : \\\"\\\"+datum[\\\"Age\\\"], \\\"Normalized frequency\\\": format(datum[\\\"Normalized frequency\\\"], \\\"\\\")}\"}, \"fill\": {\"field\": \"Normalized frequency\", \"scale\": \"color\"}, \"width\": {\"signal\": \"max(0.25, bandwidth('concat_1_x'))\"}, \"y\": {\"field\": \"Age\", \"scale\": \"concat_1_y\"}, \"height\": {\"signal\": \"max(0.25, bandwidth('concat_1_y'))\"}, \"x\": {\"field\": \"Sex\", \"scale\": \"concat_1_x\"}}}, \"style\": [\"rect\"]}], \"axes\": [{\"scale\": \"concat_1_x\", \"zindex\": 1, \"title\": \"Sex\", \"labelBaseline\": \"middle\", \"orient\": \"bottom\", \"grid\": false, \"labelAlign\": \"right\", \"labelAngle\": 270}, {\"scale\": \"concat_1_y\", \"title\": \"Age\", \"grid\": false, \"zindex\": 1, \"orient\": \"left\"}], \"title\": {\"text\": \"Synthetic\", \"frame\": \"group\"}, \"style\": \"cell\"}], \"scales\": [{\"name\": \"color\", \"type\": \"linear\", \"domain\": {\"fields\": [{\"data\": \"data_0\", \"field\": \"Normalized frequency\"}, {\"data\": \"data_1\", \"field\": \"Normalized frequency\"}]}, \"range\": {\"scheme\": \"oranges\"}, \"interpolate\": \"hcl\", \"zero\": false}, {\"name\": \"concat_0_x\", \"type\": \"band\", \"domain\": {\"data\": \"data_0_concat_0_x_domain_Sex\", \"field\": \"Sex\", \"sort\": true}, \"range\": {\"step\": {\"signal\": \"concat_0_x_step\"}}, \"paddingOuter\": 0, \"paddingInner\": 0}, {\"name\": \"concat_0_y\", \"type\": \"band\", \"domain\": {\"data\": \"data_0_concat_0_y_domain_Age\", \"field\": \"Age\", \"sort\": true}, \"range\": {\"step\": {\"signal\": \"concat_0_y_step\"}}, \"paddingInner\": 0, \"paddingOuter\": 0}, {\"name\": \"concat_1_x\", \"type\": \"band\", \"domain\": {\"data\": \"data_1_concat_1_x_domain_Sex\", \"field\": \"Sex\", \"sort\": true}, \"range\": {\"step\": {\"signal\": \"concat_1_x_step\"}}, \"paddingOuter\": 0, \"paddingInner\": 0}, {\"name\": \"concat_1_y\", \"type\": \"band\", \"domain\": {\"data\": \"data_1_concat_1_y_domain_Age\", \"field\": \"Age\", \"sort\": true}, \"range\": {\"step\": {\"signal\": \"concat_1_y_step\"}}, \"paddingInner\": 0, \"paddingOuter\": 0}], \"padding\": 5, \"layout\": {\"padding\": 20, \"bounds\": \"full\", \"align\": \"each\"}, \"legends\": [{\"title\": \"Normalized Count\", \"fill\": \"color\", \"gradientLength\": {\"signal\": \"clamp(concat_0_height, 64, 200)\"}}], \"background\": \"white\"}, {\"mode\": \"vega\"});\n",
       "</script>"
      ],
      "text/plain": [
       "alt.HConcatChart(...)"
      ]
     },
     "execution_count": 9,
     "metadata": {},
     "output_type": "execute_result"
    }
   ],
   "source": [
    "co_occurences = bivariate_empirical_frequencies({\"Observed\":df, \"Synthetic\": df_generated}, \"Sex\", \"Age\")\n",
    "plot_marginal_2d(co_occurences, \"Sex\", \"Age\")"
   ]
  },
  {
   "cell_type": "code",
   "execution_count": 10,
   "id": "37e5c0dd-2370-4415-9139-122afa591c26",
   "metadata": {},
   "outputs": [],
   "source": [
    "distances = bivariate_distances_in_data(df, df_generated)"
   ]
  },
  {
   "cell_type": "code",
   "execution_count": 11,
   "id": "ba126884-006d-43c4-ad16-e68141aef47e",
   "metadata": {},
   "outputs": [],
   "source": [
    "distances = distances.with_columns([pl.lit(\"LPM\").alias(\"model\")])\n",
    "distances = distances.with_columns(pl.arange(1, len(distances) + 1).alias(\"index\"))"
   ]
  },
  {
   "cell_type": "code",
   "execution_count": 12,
   "id": "b067a2b2-00a6-472b-b840-3646e3658162",
   "metadata": {},
   "outputs": [
    {
     "data": {
      "text/html": [
       "\n",
       "<style>\n",
       "  #altair-viz-bd21b8cb515449c6a9c169be22b8f5e1.vega-embed {\n",
       "    width: 100%;\n",
       "    display: flex;\n",
       "  }\n",
       "\n",
       "  #altair-viz-bd21b8cb515449c6a9c169be22b8f5e1.vega-embed details,\n",
       "  #altair-viz-bd21b8cb515449c6a9c169be22b8f5e1.vega-embed details summary {\n",
       "    position: relative;\n",
       "  }\n",
       "</style>\n",
       "<div id=\"altair-viz-bd21b8cb515449c6a9c169be22b8f5e1\"></div>\n",
       "<script type=\"text/javascript\">\n",
       "  var VEGA_DEBUG = (typeof VEGA_DEBUG == \"undefined\") ? {} : VEGA_DEBUG;\n",
       "  (function(spec, embedOpt){\n",
       "    let outputDiv = document.currentScript.previousElementSibling;\n",
       "    if (outputDiv.id !== \"altair-viz-bd21b8cb515449c6a9c169be22b8f5e1\") {\n",
       "      outputDiv = document.getElementById(\"altair-viz-bd21b8cb515449c6a9c169be22b8f5e1\");\n",
       "    }\n",
       "    const paths = {\n",
       "      \"vega\": \"https://cdn.jsdelivr.net/npm/vega@5?noext\",\n",
       "      \"vega-lib\": \"https://cdn.jsdelivr.net/npm/vega-lib?noext\",\n",
       "      \"vega-lite\": \"https://cdn.jsdelivr.net/npm/vega-lite@5.20.1?noext\",\n",
       "      \"vega-embed\": \"https://cdn.jsdelivr.net/npm/vega-embed@6?noext\",\n",
       "    };\n",
       "\n",
       "    function maybeLoadScript(lib, version) {\n",
       "      var key = `${lib.replace(\"-\", \"\")}_version`;\n",
       "      return (VEGA_DEBUG[key] == version) ?\n",
       "        Promise.resolve(paths[lib]) :\n",
       "        new Promise(function(resolve, reject) {\n",
       "          var s = document.createElement('script');\n",
       "          document.getElementsByTagName(\"head\")[0].appendChild(s);\n",
       "          s.async = true;\n",
       "          s.onload = () => {\n",
       "            VEGA_DEBUG[key] = version;\n",
       "            return resolve(paths[lib]);\n",
       "          };\n",
       "          s.onerror = () => reject(`Error loading script: ${paths[lib]}`);\n",
       "          s.src = paths[lib];\n",
       "        });\n",
       "    }\n",
       "\n",
       "    function showError(err) {\n",
       "      outputDiv.innerHTML = `<div class=\"error\" style=\"color:red;\">${err}</div>`;\n",
       "      throw err;\n",
       "    }\n",
       "\n",
       "    function displayChart(vegaEmbed) {\n",
       "      vegaEmbed(outputDiv, spec, embedOpt)\n",
       "        .catch(err => showError(`Javascript Error: ${err.message}<br>This usually means there's a typo in your chart specification. See the javascript console for the full traceback.`));\n",
       "    }\n",
       "\n",
       "    if(typeof define === \"function\" && define.amd) {\n",
       "      requirejs.config({paths});\n",
       "      require([\"vega-embed\"], displayChart, err => showError(`Error loading script: ${err.message}`));\n",
       "    } else {\n",
       "      maybeLoadScript(\"vega\", \"5\")\n",
       "        .then(() => maybeLoadScript(\"vega-lite\", \"5.20.1\"))\n",
       "        .then(() => maybeLoadScript(\"vega-embed\", \"6\"))\n",
       "        .catch(showError)\n",
       "        .then(() => displayChart(vegaEmbed));\n",
       "    }\n",
       "  })({\"$schema\": \"https://vega.github.io/schema/vega/v5.json\", \"data\": [{\"name\": \"source_0\", \"values\": [{\"column-1\": \"Policy_support_ban_assault_rifles\", \"column-2\": \"Policy_support_allowing_teachers_to_carry_guns\", \"tvd\": 0.00640000000000001, \"model\": \"LPM\", \"index\": 1}, {\"column-1\": \"Race\", \"column-2\": \"Policy_support_allowing_teachers_to_carry_guns\", \"tvd\": 0.008382738552761582, \"model\": \"LPM\", \"index\": 2}, {\"column-1\": \"Sex\", \"column-2\": \"Policy_support_allowing_teachers_to_carry_guns\", \"tvd\": 0.009699999999999993, \"model\": \"LPM\", \"index\": 3}, {\"column-1\": \"Police_makes_me_feel\", \"column-2\": \"Policy_support_allowing_teachers_to_carry_guns\", \"tvd\": 0.009999039135221712, \"model\": \"LPM\", \"index\": 4}, {\"column-1\": \"Police_makes_me_feel\", \"column-2\": \"Policy_support_ban_assault_rifles\", \"tvd\": 0.012556801121008907, \"model\": \"LPM\", \"index\": 5}, {\"column-1\": \"Race\", \"column-2\": \"Policy_support_ban_assault_rifles\", \"tvd\": 0.014046074448226658, \"model\": \"LPM\", \"index\": 6}, {\"column-1\": \"Party_allegiance\", \"column-2\": \"Policy_support_allowing_teachers_to_carry_guns\", \"tvd\": 0.015100000000000023, \"model\": \"LPM\", \"index\": 7}, {\"column-1\": \"Party_allegiance\", \"column-2\": \"Policy_support_ban_assault_rifles\", \"tvd\": 0.018199999999999987, \"model\": \"LPM\", \"index\": 8}, {\"column-1\": \"Mental_health_status\", \"column-2\": \"Policy_support_ban_assault_rifles\", \"tvd\": 0.01885410869782805, \"model\": \"LPM\", \"index\": 9}, {\"column-1\": \"Sex\", \"column-2\": \"Police_makes_me_feel\", \"tvd\": 0.01901651486337704, \"model\": \"LPM\", \"index\": 10}, {\"column-1\": \"Sex\", \"column-2\": \"Race\", \"tvd\": 0.019609113868452804, \"model\": \"LPM\", \"index\": 11}, {\"column-1\": \"Sex\", \"column-2\": \"Policy_support_ban_assault_rifles\", \"tvd\": 0.02070000000000001, \"model\": \"LPM\", \"index\": 12}, {\"column-1\": \"Religion\", \"column-2\": \"Policy_support_ban_assault_rifles\", \"tvd\": 0.021025295177106246, \"model\": \"LPM\", \"index\": 13}, {\"column-1\": \"Sex\", \"column-2\": \"Mental_health_status\", \"tvd\": 0.021152377139425492, \"model\": \"LPM\", \"index\": 14}, {\"column-1\": \"Mental_health_status\", \"column-2\": \"Policy_support_allowing_teachers_to_carry_guns\", \"tvd\": 0.02116482834551096, \"model\": \"LPM\", \"index\": 15}, {\"column-1\": \"Race\", \"column-2\": \"Police_makes_me_feel\", \"tvd\": 0.0216307692307692, \"model\": \"LPM\", \"index\": 16}, {\"column-1\": \"Race\", \"column-2\": \"Mental_health_status\", \"tvd\": 0.023981314574631794, \"model\": \"LPM\", \"index\": 17}, {\"column-1\": \"Religion\", \"column-2\": \"Policy_support_allowing_teachers_to_carry_guns\", \"tvd\": 0.024593636181709032, \"model\": \"LPM\", \"index\": 18}, {\"column-1\": \"Party_allegiance\", \"column-2\": \"Mental_health_status\", \"tvd\": 0.026342568311480328, \"model\": \"LPM\", \"index\": 19}, {\"column-1\": \"Party_allegiance\", \"column-2\": \"Police_makes_me_feel\", \"tvd\": 0.027473015714142724, \"model\": \"LPM\", \"index\": 20}, {\"column-1\": \"Age\", \"column-2\": \"Policy_support_ban_assault_rifles\", \"tvd\": 0.02829999999999999, \"model\": \"LPM\", \"index\": 21}, {\"column-1\": \"Religion\", \"column-2\": \"Police_makes_me_feel\", \"tvd\": 0.03063680520781171, \"model\": \"LPM\", \"index\": 22}, {\"column-1\": \"Sex\", \"column-2\": \"Party_allegiance\", \"tvd\": 0.03220000000000003, \"model\": \"LPM\", \"index\": 23}, {\"column-1\": \"Age\", \"column-2\": \"Policy_support_allowing_teachers_to_carry_guns\", \"tvd\": 0.03359999999999999, \"model\": \"LPM\", \"index\": 24}, {\"column-1\": \"Race\", \"column-2\": \"Party_allegiance\", \"tvd\": 0.03563881629515757, \"model\": \"LPM\", \"index\": 25}, {\"column-1\": \"Police_makes_me_feel\", \"column-2\": \"Mental_health_status\", \"tvd\": 0.03569963938695781, \"model\": \"LPM\", \"index\": 26}, {\"column-1\": \"Religion\", \"column-2\": \"Mental_health_status\", \"tvd\": 0.037104206309464184, \"model\": \"LPM\", \"index\": 27}, {\"column-1\": \"Sex\", \"column-2\": \"Religion\", \"tvd\": 0.03919203522113268, \"model\": \"LPM\", \"index\": 28}, {\"column-1\": \"Religion\", \"column-2\": \"Party_allegiance\", \"tvd\": 0.04071364818891335, \"model\": \"LPM\", \"index\": 29}, {\"column-1\": \"Age\", \"column-2\": \"Sex\", \"tvd\": 0.04169999999999999, \"model\": \"LPM\", \"index\": 30}, {\"column-1\": \"Age\", \"column-2\": \"Police_makes_me_feel\", \"tvd\": 0.042862466219597634, \"model\": \"LPM\", \"index\": 31}, {\"column-1\": \"Age\", \"column-2\": \"Party_allegiance\", \"tvd\": 0.042900000000000015, \"model\": \"LPM\", \"index\": 32}, {\"column-1\": \"Age\", \"column-2\": \"Race\", \"tvd\": 0.04398060832326782, \"model\": \"LPM\", \"index\": 33}, {\"column-1\": \"Race\", \"column-2\": \"Religion\", \"tvd\": 0.046655877829048543, \"model\": \"LPM\", \"index\": 34}, {\"column-1\": \"Age\", \"column-2\": \"Mental_health_status\", \"tvd\": 0.0493344610149134, \"model\": \"LPM\", \"index\": 35}, {\"column-1\": \"State\", \"column-2\": \"Sex\", \"tvd\": 0.05940000000000006, \"model\": \"LPM\", \"index\": 36}, {\"column-1\": \"State\", \"column-2\": \"Policy_support_ban_assault_rifles\", \"tvd\": 0.059500000000000025, \"model\": \"LPM\", \"index\": 37}, {\"column-1\": \"Age\", \"column-2\": \"Religion\", \"tvd\": 0.05955841504902942, \"model\": \"LPM\", \"index\": 38}, {\"column-1\": \"State\", \"column-2\": \"Policy_support_allowing_teachers_to_carry_guns\", \"tvd\": 0.061200000000000004, \"model\": \"LPM\", \"index\": 39}, {\"column-1\": \"State\", \"column-2\": \"Police_makes_me_feel\", \"tvd\": 0.06850192172955659, \"model\": \"LPM\", \"index\": 40}, {\"column-1\": \"State\", \"column-2\": \"Race\", \"tvd\": 0.08730860876249041, \"model\": \"LPM\", \"index\": 41}, {\"column-1\": \"State\", \"column-2\": \"Mental_health_status\", \"tvd\": 0.088930127114403, \"model\": \"LPM\", \"index\": 42}, {\"column-1\": \"State\", \"column-2\": \"Party_allegiance\", \"tvd\": 0.08939999999999998, \"model\": \"LPM\", \"index\": 43}, {\"column-1\": \"State\", \"column-2\": \"Age\", \"tvd\": 0.12450000000000003, \"model\": \"LPM\", \"index\": 44}, {\"column-1\": \"State\", \"column-2\": \"Religion\", \"tvd\": 0.13377012207324404, \"model\": \"LPM\", \"index\": 45}]}, {\"name\": \"data_0\", \"values\": [{\"column-1\": \"Policy_support_ban_assault_rifles\", \"column-2\": \"Policy_support_allowing_teachers_to_carry_guns\", \"index\": 1, \"model\": \"LPM\", \"tvd\": 0.00640000000000001}, {\"column-1\": \"Race\", \"column-2\": \"Policy_support_allowing_teachers_to_carry_guns\", \"index\": 2, \"model\": \"LPM\", \"tvd\": 0.008382738552761582}, {\"column-1\": \"Sex\", \"column-2\": \"Policy_support_allowing_teachers_to_carry_guns\", \"index\": 3, \"model\": \"LPM\", \"tvd\": 0.009699999999999993}, {\"column-1\": \"Police_makes_me_feel\", \"column-2\": \"Policy_support_allowing_teachers_to_carry_guns\", \"index\": 4, \"model\": \"LPM\", \"tvd\": 0.009999039135221712}, {\"column-1\": \"Police_makes_me_feel\", \"column-2\": \"Policy_support_ban_assault_rifles\", \"index\": 5, \"model\": \"LPM\", \"tvd\": 0.012556801121008907}, {\"column-1\": \"Race\", \"column-2\": \"Policy_support_ban_assault_rifles\", \"index\": 6, \"model\": \"LPM\", \"tvd\": 0.014046074448226658}, {\"column-1\": \"Party_allegiance\", \"column-2\": \"Policy_support_allowing_teachers_to_carry_guns\", \"index\": 7, \"model\": \"LPM\", \"tvd\": 0.015100000000000023}, {\"column-1\": \"Party_allegiance\", \"column-2\": \"Policy_support_ban_assault_rifles\", \"index\": 8, \"model\": \"LPM\", \"tvd\": 0.018199999999999987}, {\"column-1\": \"Mental_health_status\", \"column-2\": \"Policy_support_ban_assault_rifles\", \"index\": 9, \"model\": \"LPM\", \"tvd\": 0.01885410869782805}, {\"column-1\": \"Sex\", \"column-2\": \"Police_makes_me_feel\", \"index\": 10, \"model\": \"LPM\", \"tvd\": 0.01901651486337704}, {\"column-1\": \"Sex\", \"column-2\": \"Race\", \"index\": 11, \"model\": \"LPM\", \"tvd\": 0.019609113868452804}, {\"column-1\": \"Sex\", \"column-2\": \"Policy_support_ban_assault_rifles\", \"index\": 12, \"model\": \"LPM\", \"tvd\": 0.02070000000000001}, {\"column-1\": \"Religion\", \"column-2\": \"Policy_support_ban_assault_rifles\", \"index\": 13, \"model\": \"LPM\", \"tvd\": 0.021025295177106246}, {\"column-1\": \"Sex\", \"column-2\": \"Mental_health_status\", \"index\": 14, \"model\": \"LPM\", \"tvd\": 0.021152377139425492}, {\"column-1\": \"Mental_health_status\", \"column-2\": \"Policy_support_allowing_teachers_to_carry_guns\", \"index\": 15, \"model\": \"LPM\", \"tvd\": 0.02116482834551096}, {\"column-1\": \"Race\", \"column-2\": \"Police_makes_me_feel\", \"index\": 16, \"model\": \"LPM\", \"tvd\": 0.0216307692307692}, {\"column-1\": \"Race\", \"column-2\": \"Mental_health_status\", \"index\": 17, \"model\": \"LPM\", \"tvd\": 0.023981314574631794}, {\"column-1\": \"Religion\", \"column-2\": \"Policy_support_allowing_teachers_to_carry_guns\", \"index\": 18, \"model\": \"LPM\", \"tvd\": 0.024593636181709032}, {\"column-1\": \"Party_allegiance\", \"column-2\": \"Mental_health_status\", \"index\": 19, \"model\": \"LPM\", \"tvd\": 0.026342568311480328}, {\"column-1\": \"Party_allegiance\", \"column-2\": \"Police_makes_me_feel\", \"index\": 20, \"model\": \"LPM\", \"tvd\": 0.027473015714142724}, {\"column-1\": \"Age\", \"column-2\": \"Policy_support_ban_assault_rifles\", \"index\": 21, \"model\": \"LPM\", \"tvd\": 0.02829999999999999}, {\"column-1\": \"Religion\", \"column-2\": \"Police_makes_me_feel\", \"index\": 22, \"model\": \"LPM\", \"tvd\": 0.03063680520781171}, {\"column-1\": \"Sex\", \"column-2\": \"Party_allegiance\", \"index\": 23, \"model\": \"LPM\", \"tvd\": 0.03220000000000003}, {\"column-1\": \"Age\", \"column-2\": \"Policy_support_allowing_teachers_to_carry_guns\", \"index\": 24, \"model\": \"LPM\", \"tvd\": 0.03359999999999999}, {\"column-1\": \"Race\", \"column-2\": \"Party_allegiance\", \"index\": 25, \"model\": \"LPM\", \"tvd\": 0.03563881629515757}, {\"column-1\": \"Police_makes_me_feel\", \"column-2\": \"Mental_health_status\", \"index\": 26, \"model\": \"LPM\", \"tvd\": 0.03569963938695781}, {\"column-1\": \"Religion\", \"column-2\": \"Mental_health_status\", \"index\": 27, \"model\": \"LPM\", \"tvd\": 0.037104206309464184}, {\"column-1\": \"Sex\", \"column-2\": \"Religion\", \"index\": 28, \"model\": \"LPM\", \"tvd\": 0.03919203522113268}, {\"column-1\": \"Religion\", \"column-2\": \"Party_allegiance\", \"index\": 29, \"model\": \"LPM\", \"tvd\": 0.04071364818891335}, {\"column-1\": \"Age\", \"column-2\": \"Sex\", \"index\": 30, \"model\": \"LPM\", \"tvd\": 0.04169999999999999}, {\"column-1\": \"Age\", \"column-2\": \"Police_makes_me_feel\", \"index\": 31, \"model\": \"LPM\", \"tvd\": 0.042862466219597634}, {\"column-1\": \"Age\", \"column-2\": \"Party_allegiance\", \"index\": 32, \"model\": \"LPM\", \"tvd\": 0.042900000000000015}, {\"column-1\": \"Age\", \"column-2\": \"Race\", \"index\": 33, \"model\": \"LPM\", \"tvd\": 0.04398060832326782}, {\"column-1\": \"Race\", \"column-2\": \"Religion\", \"index\": 34, \"model\": \"LPM\", \"tvd\": 0.046655877829048543}, {\"column-1\": \"Age\", \"column-2\": \"Mental_health_status\", \"index\": 35, \"model\": \"LPM\", \"tvd\": 0.0493344610149134}, {\"column-1\": \"State\", \"column-2\": \"Sex\", \"index\": 36, \"model\": \"LPM\", \"tvd\": 0.05940000000000006}, {\"column-1\": \"State\", \"column-2\": \"Policy_support_ban_assault_rifles\", \"index\": 37, \"model\": \"LPM\", \"tvd\": 0.059500000000000025}, {\"column-1\": \"Age\", \"column-2\": \"Religion\", \"index\": 38, \"model\": \"LPM\", \"tvd\": 0.05955841504902942}, {\"column-1\": \"State\", \"column-2\": \"Policy_support_allowing_teachers_to_carry_guns\", \"index\": 39, \"model\": \"LPM\", \"tvd\": 0.061200000000000004}, {\"column-1\": \"State\", \"column-2\": \"Police_makes_me_feel\", \"index\": 40, \"model\": \"LPM\", \"tvd\": 0.06850192172955659}, {\"column-1\": \"State\", \"column-2\": \"Race\", \"index\": 41, \"model\": \"LPM\", \"tvd\": 0.08730860876249041}, {\"column-1\": \"State\", \"column-2\": \"Mental_health_status\", \"index\": 42, \"model\": \"LPM\", \"tvd\": 0.088930127114403}, {\"column-1\": \"State\", \"column-2\": \"Party_allegiance\", \"index\": 43, \"model\": \"LPM\", \"tvd\": 0.08939999999999998}, {\"column-1\": \"State\", \"column-2\": \"Age\", \"index\": 44, \"model\": \"LPM\", \"tvd\": 0.12450000000000003}, {\"column-1\": \"State\", \"column-2\": \"Religion\", \"index\": 45, \"model\": \"LPM\", \"tvd\": 0.13377012207324404}]}, {\"name\": \"source_0_x_domain_index_0\", \"values\": [{\"index\": 1}, {\"index\": 2}, {\"index\": 3}, {\"index\": 4}, {\"index\": 5}, {\"index\": 6}, {\"index\": 7}, {\"index\": 8}, {\"index\": 9}, {\"index\": 10}, {\"index\": 11}, {\"index\": 12}, {\"index\": 13}, {\"index\": 14}, {\"index\": 15}, {\"index\": 16}, {\"index\": 17}, {\"index\": 18}, {\"index\": 19}, {\"index\": 20}, {\"index\": 21}, {\"index\": 22}, {\"index\": 23}, {\"index\": 24}, {\"index\": 25}, {\"index\": 26}, {\"index\": 27}, {\"index\": 28}, {\"index\": 29}, {\"index\": 30}, {\"index\": 31}, {\"index\": 32}, {\"index\": 33}, {\"index\": 34}, {\"index\": 35}, {\"index\": 36}, {\"index\": 37}, {\"index\": 38}, {\"index\": 39}, {\"index\": 40}, {\"index\": 41}, {\"index\": 42}, {\"index\": 43}, {\"index\": 44}, {\"index\": 45}]}, {\"name\": \"data_0_x_domain_index_1\", \"values\": [{\"index\": 1}, {\"index\": 2}, {\"index\": 3}, {\"index\": 4}, {\"index\": 5}, {\"index\": 6}, {\"index\": 7}, {\"index\": 8}, {\"index\": 9}, {\"index\": 10}, {\"index\": 11}, {\"index\": 12}, {\"index\": 13}, {\"index\": 14}, {\"index\": 15}, {\"index\": 16}, {\"index\": 17}, {\"index\": 18}, {\"index\": 19}, {\"index\": 20}, {\"index\": 21}, {\"index\": 22}, {\"index\": 23}, {\"index\": 24}, {\"index\": 25}, {\"index\": 26}, {\"index\": 27}, {\"index\": 28}, {\"index\": 29}, {\"index\": 30}, {\"index\": 31}, {\"index\": 32}, {\"index\": 33}, {\"index\": 34}, {\"index\": 35}, {\"index\": 36}, {\"index\": 37}, {\"index\": 38}, {\"index\": 39}, {\"index\": 40}, {\"index\": 41}, {\"index\": 42}, {\"index\": 43}, {\"index\": 44}, {\"index\": 45}]}, {\"name\": \"source_0_color_domain_model_0\", \"values\": [{\"model\": \"LPM\"}]}, {\"name\": \"data_0_color_domain_model_1\", \"values\": [{\"model\": \"LPM\"}]}], \"marks\": [{\"type\": \"group\", \"name\": \"layer_0_pathgroup\", \"from\": {\"facet\": {\"data\": \"source_0\", \"name\": \"faceted_path_layer_0_main\", \"groupby\": [\"model\"]}}, \"encode\": {\"update\": {\"width\": {\"field\": {\"signal\": null, \"datum\": null, \"group\": \"width\", \"parent\": null}}, \"height\": {\"field\": {\"signal\": null, \"datum\": null, \"group\": \"height\", \"parent\": null}}}}, \"marks\": [{\"type\": \"line\", \"name\": \"layer_0_marks\", \"from\": {\"data\": \"faceted_path_layer_0_main\"}, \"sort\": {\"field\": \"x\"}, \"encode\": {\"update\": {\"y\": {\"field\": \"tvd\", \"scale\": \"y\"}, \"strokeDash\": {\"value\": [5, 5]}, \"stroke\": {\"field\": \"model\", \"scale\": \"color\"}, \"defined\": {\"signal\": \"isValid(datum[\\\"tvd\\\"]) && isFinite(+datum[\\\"tvd\\\"])\"}, \"x\": {\"field\": \"index\", \"scale\": \"x\"}}}, \"style\": [\"line\"]}]}, {\"type\": \"symbol\", \"name\": \"layer_1_marks\", \"from\": {\"data\": \"data_0\"}, \"encode\": {\"update\": {\"y\": {\"field\": \"tvd\", \"scale\": \"y\"}, \"fill\": {\"value\": \"transparent\"}, \"opacity\": {\"value\": 0.7}, \"x\": {\"field\": \"index\", \"scale\": \"x\"}, \"stroke\": {\"field\": \"model\", \"scale\": \"color\"}, \"tooltip\": {\"signal\": \"{\\\"Column 1\\\": isValid(datum[\\\"column-1\\\"]) ? datum[\\\"column-1\\\"] : \\\"\\\"+datum[\\\"column-1\\\"], \\\"Column 2\\\": isValid(datum[\\\"column-2\\\"]) ? datum[\\\"column-2\\\"] : \\\"\\\"+datum[\\\"column-2\\\"]}\"}}}, \"style\": [\"point\"]}], \"scales\": [{\"name\": \"x\", \"type\": \"point\", \"domain\": {\"fields\": [{\"data\": \"source_0_x_domain_index_0\", \"field\": \"index\"}, {\"data\": \"data_0_x_domain_index_1\", \"field\": \"index\"}], \"sort\": true}, \"range\": [0, {\"signal\": \"width\"}], \"padding\": 0.5}, {\"name\": \"y\", \"type\": \"linear\", \"domain\": {\"fields\": [{\"data\": \"source_0\", \"field\": \"tvd\"}, {\"data\": \"data_0\", \"field\": \"tvd\"}]}, \"range\": [{\"signal\": \"height\"}, 0], \"nice\": true, \"zero\": true}, {\"name\": \"color\", \"type\": \"ordinal\", \"domain\": {\"fields\": [{\"data\": \"source_0_color_domain_model_0\", \"field\": \"model\"}, {\"data\": \"data_0_color_domain_model_1\", \"field\": \"model\"}], \"sort\": true}, \"range\": \"category\"}], \"axes\": [{\"scale\": \"y\", \"domain\": false, \"aria\": false, \"tickCount\": {\"signal\": \"ceil(height/40)\"}, \"orient\": \"left\", \"maxExtent\": 0, \"gridScale\": \"x\", \"minExtent\": 0, \"grid\": true, \"ticks\": false, \"zindex\": 0, \"labels\": false}, {\"scale\": \"y\", \"title\": \"Total variation distance\", \"orient\": \"left\", \"zindex\": 0, \"grid\": false, \"labelOverlap\": true, \"tickCount\": {\"signal\": \"ceil(height/40)\"}}], \"background\": \"white\", \"height\": 400, \"width\": 400, \"padding\": 5, \"style\": \"cell\", \"legends\": [{\"stroke\": \"color\", \"symbolType\": \"circle\", \"title\": \"model\", \"encode\": {\"symbols\": {\"update\": {\"fill\": {\"value\": \"transparent\"}, \"opacity\": {\"value\": 0.7}}}}}]}, {\"mode\": \"vega\"});\n",
       "</script>"
      ],
      "text/plain": [
       "alt.LayerChart(...)"
      ]
     },
     "execution_count": 12,
     "metadata": {},
     "output_type": "execute_result"
    }
   ],
   "source": [
    "plot_fidelity(distances)"
   ]
  },
  {
   "cell_type": "code",
   "execution_count": 13,
   "id": "d1b921b7-5f8c-4bf8-8b10-bbe35bc64ef3",
   "metadata": {},
   "outputs": [
    {
     "data": {
      "text/plain": [
       "0.014158817857619254"
      ]
     },
     "execution_count": 13,
     "metadata": {},
     "output_type": "execute_result"
    }
   ],
   "source": [
    "math.exp(qi.logpdf({\"Religion\":\"Mormon\"}))"
   ]
  },
  {
   "cell_type": "code",
   "execution_count": 14,
   "id": "dbd03e66-132f-4a90-836c-eae56fa105ab",
   "metadata": {},
   "outputs": [
    {
     "data": {
      "text/plain": [
       "0.27036195317247524"
      ]
     },
     "execution_count": 14,
     "metadata": {},
     "output_type": "execute_result"
    }
   ],
   "source": [
    "math.exp(qi.logpdf({\"Religion\":\"Mormon\"}, {\"State\":\"Utah\"}))"
   ]
  },
  {
   "cell_type": "code",
   "execution_count": 15,
   "id": "80f31633-98d2-4145-8ad4-06702909d3d3",
   "metadata": {},
   "outputs": [],
   "source": [
    "### XXX: fix ylabel above"
   ]
  },
  {
   "cell_type": "code",
   "execution_count": 16,
   "id": "7a2600d9-436f-406a-be54-908bd84ffe40",
   "metadata": {},
   "outputs": [
    {
     "data": {
      "text/plain": [
       "Array(0.10250264, dtype=float32)"
      ]
     },
     "execution_count": 16,
     "metadata": {},
     "output_type": "execute_result"
    }
   ],
   "source": [
    "qi.mutual_information([\"Policy_support_ban_assault_rifles\"], [\"Policy_support_allowing_teachers_to_carry_guns\"])"
   ]
  },
  {
   "cell_type": "code",
   "execution_count": 17,
   "id": "cb6552c7-6290-46ff-b1a3-979aedf10e66",
   "metadata": {},
   "outputs": [
    {
     "data": {
      "text/plain": [
       "Array(0.04284743, dtype=float32)"
      ]
     },
     "execution_count": 17,
     "metadata": {},
     "output_type": "execute_result"
    }
   ],
   "source": [
    "qi.mutual_information([\"Policy_support_ban_assault_rifles\"], [\"Policy_support_allowing_teachers_to_carry_guns\"], {\"Party_allegiance\":\"Republican\"})"
   ]
  },
  {
   "cell_type": "code",
   "execution_count": 22,
   "id": "59941da5-09c9-4a58-90a4-1c77119afa08",
   "metadata": {},
   "outputs": [
    {
     "data": {
      "text/plain": [
       "Array(0.11588026, dtype=float32)"
      ]
     },
     "execution_count": 22,
     "metadata": {},
     "output_type": "execute_result"
    }
   ],
   "source": [
    "qi.mutual_information([\"Policy_support_ban_assault_rifles\"], [\"Policy_support_allowing_teachers_to_carry_guns\"], {\"Religion\":\"Protestant\"})"
   ]
  }
 ],
 "metadata": {
  "kernelspec": {
   "display_name": "Python 3 (ipykernel)",
   "language": "python",
   "name": "python3"
  },
  "language_info": {
   "codemirror_mode": {
    "name": "ipython",
    "version": 3
   },
   "file_extension": ".py",
   "mimetype": "text/x-python",
   "name": "python",
   "nbconvert_exporter": "python",
   "pygments_lexer": "ipython3",
   "version": "3.12.3"
  }
 },
 "nbformat": 4,
 "nbformat_minor": 5
}
